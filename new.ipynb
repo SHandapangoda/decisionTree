{
 "metadata": {
  "language_info": {
   "codemirror_mode": {
    "name": "ipython",
    "version": 3
   },
   "file_extension": ".py",
   "mimetype": "text/x-python",
   "name": "python",
   "nbconvert_exporter": "python",
   "pygments_lexer": "ipython3",
   "version": "3.8.5"
  },
  "orig_nbformat": 4,
  "kernelspec": {
   "name": "python3",
   "display_name": "Python 3.8.5 64-bit"
  },
  "interpreter": {
   "hash": "31f2aee4e71d21fbe5cf8b01ff0e069b9275f58929596ceb00d14d90e3e16cd6"
  }
 },
 "nbformat": 4,
 "nbformat_minor": 2,
 "cells": [
  {
   "cell_type": "code",
   "execution_count": 2,
   "metadata": {},
   "outputs": [],
   "source": [
    "import math\n",
    "import numpy as np \n",
    "import pandas as pd "
   ]
  },
  {
   "cell_type": "code",
   "execution_count": 1,
   "metadata": {},
   "outputs": [],
   "source": [
    "algorithm = \"Regression\"\n",
    "algorithm = \"Classification\""
   ]
  },
  {
   "cell_type": "code",
   "execution_count": 3,
   "metadata": {},
   "outputs": [],
   "source": [
    "df = pd.read_csv(\"golf4.txt\")"
   ]
  },
  {
   "cell_type": "code",
   "execution_count": 4,
   "metadata": {},
   "outputs": [],
   "source": [
    "data_set = dict()"
   ]
  },
  {
   "cell_type": "code",
   "execution_count": 5,
   "metadata": {},
   "outputs": [],
   "source": [
    "num_of_col = df.shape[1] - 1\n",
    "\n",
    "for i in range(0,num_of_col):\n",
    "    column_name = df.columns[i]\n",
    "    data_set[column_name] = df[column_name].dtypes\n",
    "root = 1 \n"
   ]
  },
  {
   "cell_type": "code",
   "execution_count": 11,
   "metadata": {},
   "outputs": [],
   "source": [
    "if algorithm == 'Refression':\n",
    "    if df['Decision'].dtypes == 'object':\n",
    "        raise ValueError('Dataset wrong')\n",
    "   \n"
   ]
  },
  {
   "cell_type": "code",
   "execution_count": 12,
   "metadata": {},
   "outputs": [],
   "source": [
    "def contFeatures(cdf,column_name,entropy):\n",
    "\n",
    "    unique_values = sorted(cdf[column_name].unique())\n",
    "\n",
    "    subset_ginis = []\n",
    "    subset_red_stdev = []\n",
    "\n",
    "    for i in range(0,len(unique_values) - 1):\n",
    "        threshold = unique_values[i]\n",
    "        subset1 = cdf[cdf[column_name] <= threshold]\n",
    "        subset2 = cdf[cdf[column_name] < threshold]\n",
    "\n",
    "        subset1_rows = subset1.shape[0]\n",
    "        subset2_rows = subset2.shape[0]\n",
    "        total_instance = cdf.shape[0]\n",
    "\n",
    "        if algorithm == 'Classification':\n",
    "            decision_for_subset1 = subset1['Decision'].value_counts().toList()\n",
    "            decision_for_subset2 = subset2['Decision'].value_counts().toList()\n",
    "\n",
    "            gini_subset1 = 1\n",
    "            gini_subset2 = 1\n",
    "\n",
    "            for j in range (0,len(decision_for_subset1)):\n",
    "                gini_subset1 = gini_subset1 - math.pow((decision_for_subset1[j] / subset1), 2)\n",
    "\n",
    "            for j in range(0,len(decision_for_subset2)):\n",
    "                gini_subset2 = gini_subset2 - math.pow((decision_for_subset2[j] / subser2), 2)\n",
    "\n",
    "            gini = (subset1_rows / total_instance) * gini_subset1 + (subset2_rows / total_instance) * gini_subset2\n",
    "\n",
    "            subset_ginis.append(gini)\n",
    "\n",
    "        elif algorithm == 'Regression':\n",
    "            super_stdev = cdf['Decision'].std(ddof = 0)\n",
    "            sub_set1_stdev = subset1['Decision'].std(ddof = 0)\n",
    "            sub_set2_stdev = subset2['Decision'].std(ddof = 0)\n",
    "\n",
    "            threshold_weight_stdev = (subset1_rows / total_instance) * sub_set1_stdev + (subset2_rows / total_instance) * sub_set2_stdev\n",
    "            threshold_reduce_stdev = super_stdev - threshold_weight_stdev\n",
    "            subset_red_stdev.append(threshold_reduce_stdev)\n",
    "        \n",
    "        if algorithm == 'Classification':\n",
    "            win_1 = subset_ginis.index(min(subset_ginis))\n",
    "        \n",
    "        elif algorithm == 'Regression':\n",
    "            win_1 = subset_red_stdev.index(max(subset_red_stdev))\n",
    "\n",
    "        win_threshold = unique_values(win_1)\n",
    "\n",
    "        cdf[column_name] = np.where(cdf[column_name] <= win_threshold, \"<=\" + str(win_threshold), \">\" + str(win_threshold))\n",
    "\n",
    "        return cdf\n",
    "\n"
   ]
  },
  {
   "cell_type": "code",
   "execution_count": null,
   "metadata": {},
   "outputs": [],
   "source": []
  }
 ]
}